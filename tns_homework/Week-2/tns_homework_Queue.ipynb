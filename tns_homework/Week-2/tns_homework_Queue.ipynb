{
 "cells": [
  {
   "cell_type": "code",
   "execution_count": null,
   "id": "5b326f99",
   "metadata": {},
   "outputs": [
    {
     "name": "stdout",
     "output_type": "stream",
     "text": [
      "1\n"
     ]
    }
   ],
   "source": [
    "#Implement a queue using arrays\n",
    "\n",
    "class Queue:\n",
    "    def __init__(self):\n",
    "        self.queue = []\n",
    "\n",
    "    def enqueue(self, item):\n",
    "        self.queue.append(item)\n",
    "\n",
    "    def dequeue(self):\n",
    "        if self.is_empty():\n",
    "            return None\n",
    "        return self.queue.pop(0)\n",
    "\n",
    "    def front(self):\n",
    "        return self.queue[0] if self.queue else None\n",
    "\n",
    "    def is_empty(self):\n",
    "        return len(self.queue) == 0\n",
    "\n",
    "# Example\n",
    "q = Queue()\n",
    "q.enqueue(1)\n",
    "q.enqueue(2)\n",
    "print(q.dequeue())\n"
   ]
  },
  {
   "cell_type": "code",
   "execution_count": 2,
   "id": "a2e433fd",
   "metadata": {},
   "outputs": [
    {
     "name": "stdout",
     "output_type": "stream",
     "text": [
      "1\n"
     ]
    }
   ],
   "source": [
    "#Implement a circular queue using an array\n",
    "\n",
    "class CircularQueue:\n",
    "    def __init__(self, k):\n",
    "        self.size = k\n",
    "        self.queue = [None] * k\n",
    "        self.front = self.rear = -1\n",
    "\n",
    "    def enqueue(self, data):\n",
    "        if (self.rear + 1) % self.size == self.front:\n",
    "            return False\n",
    "        if self.front == -1:\n",
    "            self.front = 0\n",
    "        self.rear = (self.rear + 1) % self.size\n",
    "        self.queue[self.rear] = data\n",
    "        return True\n",
    "\n",
    "    def dequeue(self):\n",
    "        if self.front == -1:\n",
    "            return None\n",
    "        data = self.queue[self.front]\n",
    "        if self.front == self.rear:\n",
    "            self.front = self.rear = -1\n",
    "        else:\n",
    "            self.front = (self.front + 1) % self.size\n",
    "        return data\n",
    "\n",
    "cq = CircularQueue(3)\n",
    "cq.enqueue(1)\n",
    "cq.enqueue(2)\n",
    "print(cq.dequeue())\n"
   ]
  },
  {
   "cell_type": "code",
   "execution_count": null,
   "id": "10346b56",
   "metadata": {},
   "outputs": [
    {
     "name": "stdout",
     "output_type": "stream",
     "text": [
      "1\n",
      "2\n"
     ]
    }
   ],
   "source": [
    "#Implement a queue using two stacks\n",
    "\n",
    "class QueueUsingStacks:\n",
    "    def __init__(self):\n",
    "        self.s1 = []\n",
    "        self.s2 = []\n",
    "\n",
    "    def enqueue(self, x):\n",
    "        self.s1.append(x)\n",
    "\n",
    "    def dequeue(self):\n",
    "        if not self.s2:\n",
    "            while self.s1:\n",
    "                self.s2.append(self.s1.pop())\n",
    "        if self.s2:\n",
    "            return self.s2.pop()\n",
    "        return None\n",
    "\n",
    "\n",
    "qs = QueueUsingStacks()\n",
    "qs.enqueue(1)\n",
    "qs.enqueue(2)\n",
    "print(qs.dequeue())\n",
    "print(qs.dequeue())"
   ]
  },
  {
   "cell_type": "code",
   "execution_count": 4,
   "id": "ea7cd7df",
   "metadata": {},
   "outputs": [
    {
     "name": "stdout",
     "output_type": "stream",
     "text": [
      "1\n",
      "2\n"
     ]
    }
   ],
   "source": [
    "#Design a Deque (double-ended queue)\n",
    "\n",
    "class Deque:\n",
    "    def __init__(self):\n",
    "        self.items = []\n",
    "\n",
    "    def is_empty(self):\n",
    "        return len(self.items) == 0\n",
    "\n",
    "    def add_front(self, item):\n",
    "        self.items.append(item)\n",
    "\n",
    "    def add_rear(self, item):\n",
    "        self.items.insert(0, item)\n",
    "\n",
    "    def remove_front(self):\n",
    "        if not self.is_empty():\n",
    "            return self.items.pop()\n",
    "        return None\n",
    "\n",
    "    def remove_rear(self):\n",
    "        if not self.is_empty():\n",
    "            return self.items.pop(0)\n",
    "        return None\n",
    "\n",
    "    def get_front(self):\n",
    "        if not self.is_empty():\n",
    "            return self.items[-1]\n",
    "        return None\n",
    "\n",
    "    def get_rear(self):\n",
    "        if not self.is_empty():\n",
    "            return self.items[0]\n",
    "        return None\n",
    "\n",
    "d = Deque()\n",
    "d.add_front(1)\n",
    "d.add_rear(2)\n",
    "print(d.remove_front())\n",
    "print(d.remove_rear())"
   ]
  },
  {
   "cell_type": "code",
   "execution_count": 5,
   "id": "b42d8661",
   "metadata": {},
   "outputs": [
    {
     "name": "stdout",
     "output_type": "stream",
     "text": [
      "[3, 3, 5, 5, 6, 7]\n"
     ]
    }
   ],
   "source": [
    "#Sliding window maximum (using deque)\n",
    "\n",
    "from collections import deque\n",
    "\n",
    "def sliding_window_max(nums, k):\n",
    "    dq = deque()\n",
    "    result = []\n",
    "    for i, num in enumerate(nums):\n",
    "        if dq and dq[0] == i - k:\n",
    "            dq.popleft()\n",
    "        while dq and nums[dq[-1]] < num:\n",
    "            dq.pop()\n",
    "        dq.append(i)\n",
    "        if i >= k - 1:\n",
    "            result.append(nums[dq[0]])\n",
    "    return result\n",
    "\n",
    "\n",
    "print(sliding_window_max([1,3,-1,-3,5,3,6,7], 3))\n",
    "\n"
   ]
  }
 ],
 "metadata": {
  "kernelspec": {
   "display_name": "Python 3",
   "language": "python",
   "name": "python3"
  },
  "language_info": {
   "codemirror_mode": {
    "name": "ipython",
    "version": 3
   },
   "file_extension": ".py",
   "mimetype": "text/x-python",
   "name": "python",
   "nbconvert_exporter": "python",
   "pygments_lexer": "ipython3",
   "version": "3.12.2"
  }
 },
 "nbformat": 4,
 "nbformat_minor": 5
}
