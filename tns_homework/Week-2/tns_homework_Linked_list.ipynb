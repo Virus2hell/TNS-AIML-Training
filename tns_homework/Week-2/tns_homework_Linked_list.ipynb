{
 "cells": [
  {
   "cell_type": "code",
   "execution_count": 1,
   "id": "f2df13d0",
   "metadata": {},
   "outputs": [],
   "source": [
    "class Node:\n",
    "    def __init__(self, data):\n",
    "        self.data = data\n",
    "        self.next = None\n",
    "\n",
    "def create_linked_list(values):\n",
    "    if not values:\n",
    "        return None\n",
    "    head = Node(values[0])\n",
    "    current = head\n",
    "    for val in values[1:]:\n",
    "        current.next = Node(val)\n",
    "        current = current.next\n",
    "    return head\n",
    "\n",
    "def print_linked_list(head):\n",
    "    result = []\n",
    "    while head:\n",
    "        result.append(head.data)\n",
    "        head = head.next\n",
    "    print(result)\n"
   ]
  },
  {
   "cell_type": "code",
   "execution_count": 3,
   "id": "b397efc4",
   "metadata": {},
   "outputs": [
    {
     "name": "stdout",
     "output_type": "stream",
     "text": [
      "Original:\n",
      "[1, 2, 3, 4, 5]\n",
      "Reversed:\n",
      "[5, 4, 3, 2, 1]\n"
     ]
    }
   ],
   "source": [
    "#Reverse a singly linked list iteratively\n",
    "\n",
    "def reverse_linked_list_iterative(head):\n",
    "    prev = None\n",
    "    current = head\n",
    "    while current:\n",
    "        nxt = current.next\n",
    "        current.next = prev\n",
    "        prev = current\n",
    "        current = nxt\n",
    "    return prev\n",
    "\n",
    "\n",
    "head = create_linked_list([1, 2, 3, 4, 5])\n",
    "print(\"Original:\")\n",
    "print_linked_list(head)\n",
    "\n",
    "head = reverse_linked_list_iterative(head)\n",
    "print(\"Reversed:\")\n",
    "print_linked_list(head)\n"
   ]
  },
  {
   "cell_type": "code",
   "execution_count": 4,
   "id": "27b01d3a",
   "metadata": {},
   "outputs": [
    {
     "name": "stdout",
     "output_type": "stream",
     "text": [
      "Has cycle? False\n",
      "Has cycle? True\n"
     ]
    }
   ],
   "source": [
    "#Detect if a linked list has a cycle\n",
    "\n",
    "def has_cycle(head):\n",
    "    slow = fast = head\n",
    "    while fast and fast.next:\n",
    "        slow = slow.next\n",
    "        fast = fast.next.next\n",
    "        if slow == fast:\n",
    "            return True\n",
    "    return False\n",
    "\n",
    "\n",
    "head = create_linked_list([1, 2, 3, 4])\n",
    "print(\"Has cycle?\", has_cycle(head))\n",
    "\n",
    "\n",
    "head_cycle = create_linked_list([1, 2, 3, 4])\n",
    "head_cycle.next.next.next.next = head_cycle.next\n",
    "print(\"Has cycle?\", has_cycle(head_cycle))\n"
   ]
  },
  {
   "cell_type": "code",
   "execution_count": 8,
   "id": "45ce84c8",
   "metadata": {},
   "outputs": [
    {
     "name": "stdout",
     "output_type": "stream",
     "text": [
      "Middle element: 3\n",
      "Middle element: 8\n"
     ]
    }
   ],
   "source": [
    "# Find the middle element of a linked list\n",
    "def find_middle(head):\n",
    "    slow = fast = head\n",
    "    while fast and fast.next:\n",
    "        slow = slow.next\n",
    "        fast = fast.next.next\n",
    "    return slow.data\n",
    "\n",
    "head = create_linked_list([1, 2, 3, 4, 5])\n",
    "print(\"Middle element:\", find_middle(head))\n",
    "\n",
    "head_even = create_linked_list([1, 2, 3, 4, 8, 9, 5, 2])\n",
    "print(\"Middle element:\", find_middle(head_even))\n"
   ]
  },
  {
   "cell_type": "code",
   "execution_count": null,
   "id": "78e92b36",
   "metadata": {},
   "outputs": [
    {
     "name": "stdout",
     "output_type": "stream",
     "text": [
      "List1:\n",
      "[1, 3, 5]\n",
      "List2:\n",
      "[2, 4, 6]\n",
      "Merged:\n",
      "[1, 2, 3, 4, 5, 6]\n"
     ]
    }
   ],
   "source": [
    "#Merge two sorted linked lists into one sorted linked list\n",
    "\n",
    "def merge_two_sorted(l1, l2):\n",
    "    dummy = Node(0)\n",
    "    tail = dummy\n",
    "    while l1 and l2:\n",
    "        if l1.data < l2.data:\n",
    "            tail.next = l1\n",
    "            l1 = l1.next\n",
    "        else:\n",
    "            tail.next = l2\n",
    "            l2 = l2.next\n",
    "        tail = tail.next\n",
    "    tail.next = l1 or l2\n",
    "    return dummy.next\n",
    "\n",
    "\n",
    "l1 = create_linked_list([1, 3, 5])\n",
    "l2 = create_linked_list([2, 4, 6])\n",
    "\n",
    "print(\"List1:\")\n",
    "print_linked_list(l1)\n",
    "print(\"List2:\")\n",
    "print_linked_list(l2)\n",
    "\n",
    "merged = merge_two_sorted(l1, l2)\n",
    "print(\"Merged:\")\n",
    "print_linked_list(merged)\n"
   ]
  },
  {
   "cell_type": "code",
   "execution_count": null,
   "id": "3a3094c9",
   "metadata": {},
   "outputs": [
    {
     "name": "stdout",
     "output_type": "stream",
     "text": [
      "Original:\n",
      "[1, 2, 3, 4, 5]\n",
      "After removing 2nd from end:\n",
      "[1, 2, 3, 5]\n"
     ]
    }
   ],
   "source": [
    "#Remove the nth node from the end of a linked list in one pass\n",
    "\n",
    "def remove_nth_from_end(head, n):\n",
    "    dummy = Node(0)\n",
    "    dummy.next = head\n",
    "    first = second = dummy\n",
    "    for _ in range(n + 1):\n",
    "        if first:\n",
    "            first = first.next\n",
    "    while first:\n",
    "        first = first.next\n",
    "        second = second.next\n",
    "    second.next = second.next.next\n",
    "    return dummy.next\n",
    "\n",
    "\n",
    "head = create_linked_list([1, 2, 3, 4, 5])\n",
    "print(\"Original:\")\n",
    "print_linked_list(head)\n",
    "\n",
    "head = remove_nth_from_end(head, 2)\n",
    "print(\"After removing 2nd from end:\")\n",
    "print_linked_list(head)\n"
   ]
  }
 ],
 "metadata": {
  "kernelspec": {
   "display_name": "Python 3",
   "language": "python",
   "name": "python3"
  },
  "language_info": {
   "codemirror_mode": {
    "name": "ipython",
    "version": 3
   },
   "file_extension": ".py",
   "mimetype": "text/x-python",
   "name": "python",
   "nbconvert_exporter": "python",
   "pygments_lexer": "ipython3",
   "version": "3.12.2"
  }
 },
 "nbformat": 4,
 "nbformat_minor": 5
}
