{
 "cells": [
  {
   "cell_type": "code",
   "execution_count": 1,
   "id": "6a366b3c",
   "metadata": {},
   "outputs": [],
   "source": [
    "class Node:\n",
    "    def __init__(self, data):\n",
    "        self.data = data\n",
    "        self.left = None\n",
    "        self.right = None\n",
    "\n",
    "def create_sample_tree():\n",
    "    root = Node(1)\n",
    "    root.left = Node(2)\n",
    "    root.right = Node(3)\n",
    "    root.left.left = Node(4)\n",
    "    root.left.right = Node(5)\n",
    "    root.right.right = Node(6)\n",
    "    return root\n"
   ]
  },
  {
   "cell_type": "code",
   "execution_count": 3,
   "id": "4a843fea",
   "metadata": {},
   "outputs": [
    {
     "name": "stdout",
     "output_type": "stream",
     "text": [
      "Inorder:\n",
      "4 2 5 1 3 6 \n",
      "Preorder:\n",
      "1 2 4 5 3 6 \n",
      "Postorder:\n",
      "4 5 2 6 3 1 \n"
     ]
    }
   ],
   "source": [
    "#Inorder, Preorder, Postorder Traversals\n",
    "\n",
    "def inorder(root):\n",
    "    if root:\n",
    "        inorder(root.left)\n",
    "        print(root.data, end=' ')\n",
    "        inorder(root.right)\n",
    "\n",
    "def preorder(root):\n",
    "    if root:\n",
    "        print(root.data, end=' ')\n",
    "        preorder(root.left)\n",
    "        preorder(root.right)\n",
    "\n",
    "def postorder(root):\n",
    "    if root:\n",
    "        postorder(root.left)\n",
    "        postorder(root.right)\n",
    "        print(root.data, end=' ')\n",
    "\n",
    "\n",
    "root = create_sample_tree()\n",
    "print(\"Inorder:\")\n",
    "inorder(root)\n",
    "print(\"\\nPreorder:\")\n",
    "preorder(root)\n",
    "print(\"\\nPostorder:\")\n",
    "postorder(root)\n",
    "print()\n"
   ]
  },
  {
   "cell_type": "code",
   "execution_count": 4,
   "id": "db3a96d9",
   "metadata": {},
   "outputs": [
    {
     "name": "stdout",
     "output_type": "stream",
     "text": [
      "Height of tree: 3\n"
     ]
    }
   ],
   "source": [
    "#Find the height of a binary tree\n",
    "\n",
    "def height(root):\n",
    "    if root is None:\n",
    "        return 0\n",
    "    return 1 + max(height(root.left), height(root.right))\n",
    "\n",
    "root = create_sample_tree()\n",
    "print(\"Height of tree:\", height(root))\n"
   ]
  },
  {
   "cell_type": "code",
   "execution_count": 5,
   "id": "c04e5ced",
   "metadata": {},
   "outputs": [
    {
     "name": "stdout",
     "output_type": "stream",
     "text": [
      "Leaf nodes: 3\n"
     ]
    }
   ],
   "source": [
    "#Count the number of leaf nodes\n",
    "\n",
    "def count_leaves(root):\n",
    "    if root is None:\n",
    "        return 0\n",
    "    if root.left is None and root.right is None:\n",
    "        return 1\n",
    "    return count_leaves(root.left) + count_leaves(root.right)\n",
    "\n",
    "root = create_sample_tree()\n",
    "print(\"Leaf nodes:\", count_leaves(root))"
   ]
  },
  {
   "cell_type": "code",
   "execution_count": 6,
   "id": "6b6439f9",
   "metadata": {},
   "outputs": [
    {
     "name": "stdout",
     "output_type": "stream",
     "text": [
      "LCA of 4 and 5: 2\n"
     ]
    }
   ],
   "source": [
    "#Lowest Common Ancestor (LCA) of two nodes\n",
    "\n",
    "def lowest_common_ancestor(root, n1, n2):\n",
    "    if root is None:\n",
    "        return None\n",
    "    if root.data == n1 or root.data == n2:\n",
    "        return root\n",
    "    left = lowest_common_ancestor(root.left, n1, n2)\n",
    "    right = lowest_common_ancestor(root.right, n1, n2)\n",
    "    if left and right:\n",
    "        return root\n",
    "    return left if left else right\n",
    "\n",
    "root = create_sample_tree()\n",
    "lca = lowest_common_ancestor(root, 4, 5)\n",
    "print(\"LCA of 4 and 5:\", lca.data if lca else None)\n"
   ]
  },
  {
   "cell_type": "code",
   "execution_count": 7,
   "id": "30b97e27",
   "metadata": {},
   "outputs": [
    {
     "name": "stdout",
     "output_type": "stream",
     "text": [
      "Inorder before mirror:\n",
      "4 2 5 1 3 6 \n",
      "Inorder after mirror:\n",
      "6 3 1 5 2 4 \n"
     ]
    }
   ],
   "source": [
    "#Convert a binary tree into its mirror tree\n",
    "\n",
    "def mirror_tree(root):\n",
    "    if root is None:\n",
    "        return None\n",
    "    root.left, root.right = root.right, root.left\n",
    "    mirror_tree(root.left)\n",
    "    mirror_tree(root.right)\n",
    "    return root\n",
    "\n",
    "root = create_sample_tree()\n",
    "print(\"Inorder before mirror:\")\n",
    "inorder(root); print()\n",
    "\n",
    "mirror_tree(root)\n",
    "print(\"Inorder after mirror:\")\n",
    "inorder(root); print()\n"
   ]
  },
  {
   "cell_type": "code",
   "execution_count": 8,
   "id": "59fa7e4a",
   "metadata": {},
   "outputs": [
    {
     "name": "stdout",
     "output_type": "stream",
     "text": [
      "Serialized tree: [1, 2, 3, 4, 5, None, 6, None, None, None, None, None, None]\n",
      "Inorder of deserialized tree:\n",
      "4 2 5 1 3 6 \n"
     ]
    }
   ],
   "source": [
    "#Serialize and Deserialize a binary tree\n",
    "\n",
    "from collections import deque\n",
    "\n",
    "def serialize(root):\n",
    "    if not root:\n",
    "        return []\n",
    "    result = []\n",
    "    q = deque([root])\n",
    "    while q:\n",
    "        node = q.popleft()\n",
    "        if node:\n",
    "            result.append(node.data)\n",
    "            q.append(node.left)\n",
    "            q.append(node.right)\n",
    "        else:\n",
    "            result.append(None)\n",
    "    return result\n",
    "\n",
    "def deserialize(data):\n",
    "    if not data or data[0] is None:\n",
    "        return None\n",
    "    root = Node(data[0])\n",
    "    q = deque([root])\n",
    "    i = 1\n",
    "    while q and i < len(data):\n",
    "        node = q.popleft()\n",
    "        if data[i] is not None:\n",
    "            node.left = Node(data[i])\n",
    "            q.append(node.left)\n",
    "        i += 1\n",
    "        if i < len(data) and data[i] is not None:\n",
    "            node.right = Node(data[i])\n",
    "            q.append(node.right)\n",
    "        i += 1\n",
    "    return root\n",
    "\n",
    "\n",
    "root = create_sample_tree()\n",
    "ser = serialize(root)\n",
    "print(\"Serialized tree:\", ser)\n",
    "root2 = deserialize(ser)\n",
    "print(\"Inorder of deserialized tree:\")\n",
    "inorder(root2); print()\n"
   ]
  },
  {
   "cell_type": "code",
   "execution_count": 11,
   "id": "aae7c973",
   "metadata": {},
   "outputs": [
    {
     "name": "stdout",
     "output_type": "stream",
     "text": [
      "3rd smallest element: 5\n"
     ]
    }
   ],
   "source": [
    "#Given a BST, find the kth smallest element\n",
    "\n",
    "def kth_smallest(root, k):\n",
    "    stack = []\n",
    "    current = root\n",
    "    while True:\n",
    "        while current:\n",
    "            stack.append(current)\n",
    "            current = current.left\n",
    "        if not stack:\n",
    "            return None\n",
    "        current = stack.pop()\n",
    "        k -= 1\n",
    "        if k == 0:\n",
    "            return current.data\n",
    "        current = current.right\n",
    "\n",
    "root = create_sample_tree()\n",
    "print(\"3rd smallest element:\", kth_smallest(root, 3))\n"
   ]
  }
 ],
 "metadata": {
  "kernelspec": {
   "display_name": "Python 3",
   "language": "python",
   "name": "python3"
  },
  "language_info": {
   "codemirror_mode": {
    "name": "ipython",
    "version": 3
   },
   "file_extension": ".py",
   "mimetype": "text/x-python",
   "name": "python",
   "nbconvert_exporter": "python",
   "pygments_lexer": "ipython3",
   "version": "3.12.2"
  }
 },
 "nbformat": 4,
 "nbformat_minor": 5
}
