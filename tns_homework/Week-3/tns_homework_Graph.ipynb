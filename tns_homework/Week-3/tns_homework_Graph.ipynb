{
 "cells": [
  {
   "cell_type": "code",
   "execution_count": 1,
   "id": "de7ce2ca",
   "metadata": {},
   "outputs": [],
   "source": [
    "from collections import defaultdict, deque\n",
    "import heapq\n"
   ]
  },
  {
   "cell_type": "code",
   "execution_count": null,
   "id": "b6dcb4b8",
   "metadata": {},
   "outputs": [
    {
     "name": "stdout",
     "output_type": "stream",
     "text": [
      "Adjacency List: {0: [1, 2], 1: [0, 2], 2: [0, 1, 3], 3: [2]}\n",
      "Adjacency Matrix:\n",
      "[0, 1, 1, 0]\n",
      "[1, 0, 1, 0]\n",
      "[1, 1, 0, 1]\n",
      "[0, 0, 1, 0]\n"
     ]
    }
   ],
   "source": [
    "#Represent a Graph Using Adjacency List and Adjacency Matrix\n",
    "\n",
    "def create_adj_list(edges, n):\n",
    "    adj = defaultdict(list)\n",
    "    for u, v in edges:\n",
    "        adj[u].append(v)\n",
    "        adj[v].append(u)\n",
    "    return adj\n",
    "\n",
    "def create_adj_matrix(edges, n):\n",
    "    matrix = [[0]*n for _ in range(n)]\n",
    "    for u, v in edges:\n",
    "        matrix[u][v] = 1\n",
    "        matrix[v][u] = 1\n",
    "    return matrix\n",
    "\n",
    "\n",
    "edges = [(0,1),(0,2),(1,2),(2,3)]\n",
    "n = 4\n",
    "adj_list = create_adj_list(edges, n)\n",
    "print(\"Adjacency List:\", dict(adj_list))\n",
    "\n",
    "adj_matrix = create_adj_matrix(edges, n)\n",
    "print(\"Adjacency Matrix:\")\n",
    "for row in adj_matrix:\n",
    "    print(row)\n"
   ]
  },
  {
   "cell_type": "code",
   "execution_count": 3,
   "id": "c08bff2d",
   "metadata": {},
   "outputs": [
    {
     "name": "stdout",
     "output_type": "stream",
     "text": [
      "BFS from node 0: [0, 1, 2, 3, 4]\n"
     ]
    }
   ],
   "source": [
    "#Perform Breadth-First Search (BFS)\n",
    "\n",
    "def bfs(adj_list, start):\n",
    "    visited = set()\n",
    "    queue = deque([start])\n",
    "    order = []\n",
    "\n",
    "    while queue:\n",
    "        node = queue.popleft()\n",
    "        if node not in visited:\n",
    "            visited.add(node)\n",
    "            order.append(node)\n",
    "            for neighbor in adj_list[node]:\n",
    "                if neighbor not in visited:\n",
    "                    queue.append(neighbor)\n",
    "    return order\n",
    "\n",
    "edges = [(0,1),(0,2),(1,3),(2,4),(3,4)]\n",
    "n = 5\n",
    "adj_list = create_adj_list(edges, n)\n",
    "print(\"BFS from node 0:\", bfs(adj_list, 0))\n"
   ]
  },
  {
   "cell_type": "code",
   "execution_count": 4,
   "id": "e04d52bc",
   "metadata": {},
   "outputs": [
    {
     "name": "stdout",
     "output_type": "stream",
     "text": [
      "DFS from node 0: [0, 1, 3, 4, 2]\n"
     ]
    }
   ],
   "source": [
    "#Perform Depth-First Search (DFS)\n",
    "\n",
    "def dfs(adj_list, start):\n",
    "    visited = set()\n",
    "    order = []\n",
    "\n",
    "    def dfs_visit(node):\n",
    "        visited.add(node)\n",
    "        order.append(node)\n",
    "        for neighbor in adj_list[node]:\n",
    "            if neighbor not in visited:\n",
    "                dfs_visit(neighbor)\n",
    "\n",
    "    dfs_visit(start)\n",
    "    return order\n",
    "\n",
    "\n",
    "print(\"DFS from node 0:\", dfs(adj_list, 0))\n"
   ]
  },
  {
   "cell_type": "code",
   "execution_count": null,
   "id": "d86c55a4",
   "metadata": {},
   "outputs": [
    {
     "name": "stdout",
     "output_type": "stream",
     "text": [
      "Has cycle (undirected): True\n"
     ]
    }
   ],
   "source": [
    "#Detect a Cycle in an Undirected Graph Using DFS\n",
    "\n",
    "def detect_cycle_undirected(adj_list, n):\n",
    "    visited = [False]*n\n",
    "\n",
    "    def dfs(u, parent):\n",
    "        visited[u] = True\n",
    "        for v in adj_list[u]:\n",
    "            if not visited[v]:\n",
    "                if dfs(v, u):\n",
    "                    return True\n",
    "            elif v != parent:  # back-edge found\n",
    "                return True\n",
    "        return False\n",
    "\n",
    "    for i in range(n):\n",
    "        if not visited[i]:\n",
    "            if dfs(i, -1):\n",
    "                return True\n",
    "    return False\n",
    "\n",
    "\n",
    "edges = [(0,1),(1,2),(2,0),(2,3)]\n",
    "adj_list = create_adj_list(edges, 4)\n",
    "print(\"Has cycle (undirected):\", detect_cycle_undirected(adj_list, 4))\n"
   ]
  },
  {
   "cell_type": "code",
   "execution_count": null,
   "id": "45a9d549",
   "metadata": {},
   "outputs": [
    {
     "name": "stdout",
     "output_type": "stream",
     "text": [
      "Has cycle (directed): True\n"
     ]
    }
   ],
   "source": [
    "# Detect a Cycle in a Directed Graph Using DFS\n",
    "\n",
    "def detect_cycle_directed(adj_list, n):\n",
    "    visited = [0]*n\n",
    "\n",
    "    def dfs(u):\n",
    "        visited[u] = 1\n",
    "        for v in adj_list[u]:\n",
    "            if visited[v] == 0:\n",
    "                if dfs(v):\n",
    "                    return True\n",
    "            elif visited[v] == 1:\n",
    "                return True\n",
    "        visited[u] = 2\n",
    "        return False\n",
    "\n",
    "    for i in range(n):\n",
    "        if visited[i] == 0:\n",
    "            if dfs(i):\n",
    "                return True\n",
    "    return False\n",
    "\n",
    "\n",
    "edges = [(0,1),(1,2),(2,0),(2,3)]\n",
    "adj_list = defaultdict(list)\n",
    "for u,v in edges:\n",
    "    adj_list[u].append(v)\n",
    "n = 4\n",
    "print(\"Has cycle (directed):\", detect_cycle_directed(adj_list, n))\n"
   ]
  },
  {
   "cell_type": "code",
   "execution_count": 7,
   "id": "a45c4947",
   "metadata": {},
   "outputs": [
    {
     "name": "stdout",
     "output_type": "stream",
     "text": [
      "Shortest distances from 0: [0, 3, 1, 4]\n"
     ]
    }
   ],
   "source": [
    "#Shortest Path from a Source Vertex to All Others Using Dijkstra’s Algorithm\n",
    "\n",
    "def dijkstra(n, edges, source):\n",
    "    adj = defaultdict(list)\n",
    "    for u,v,w in edges:\n",
    "        adj[u].append((v,w))\n",
    "        adj[v].append((u,w))\n",
    "\n",
    "    dist = [float('inf')]*n\n",
    "    dist[source] = 0\n",
    "    pq = [(0,source)]\n",
    "\n",
    "    while pq:\n",
    "        d,u = heapq.heappop(pq)\n",
    "        if d>dist[u]:\n",
    "            continue\n",
    "        for v,w in adj[u]:\n",
    "            if dist[u]+w < dist[v]:\n",
    "                dist[v] = dist[u]+w\n",
    "                heapq.heappush(pq,(dist[v],v))\n",
    "    return dist\n",
    "\n",
    "\n",
    "edges = [(0,1,4),(0,2,1),(2,1,2),(1,3,1),(2,3,5)]\n",
    "n=4\n",
    "print(\"Shortest distances from 0:\", dijkstra(n, edges, 0))\n"
   ]
  },
  {
   "cell_type": "code",
   "execution_count": 8,
   "id": "8f17f7d9",
   "metadata": {},
   "outputs": [
    {
     "name": "stdout",
     "output_type": "stream",
     "text": [
      "Is bipartite: True\n"
     ]
    }
   ],
   "source": [
    "#Check if a Given Graph is Bipartite Using BFS\n",
    "\n",
    "\n",
    "def is_bipartite(adj_list, n):\n",
    "    color = [-1]*n\n",
    "\n",
    "    for i in range(n):\n",
    "        if color[i] == -1:\n",
    "            queue = deque([i])\n",
    "            color[i] = 0\n",
    "            while queue:\n",
    "                u = queue.popleft()\n",
    "                for v in adj_list[u]:\n",
    "                    if color[v] == -1:\n",
    "                        color[v] = 1 - color[u]\n",
    "                        queue.append(v)\n",
    "                    elif color[v] == color[u]:\n",
    "                        return False\n",
    "    return True\n",
    "\n",
    "\n",
    "edges = [(0,1),(1,2),(2,3),(3,0)]\n",
    "adj_list = create_adj_list(edges, 4)\n",
    "print(\"Is bipartite:\", is_bipartite(adj_list, 4))\n"
   ]
  }
 ],
 "metadata": {
  "kernelspec": {
   "display_name": "Python 3",
   "language": "python",
   "name": "python3"
  },
  "language_info": {
   "codemirror_mode": {
    "name": "ipython",
    "version": 3
   },
   "file_extension": ".py",
   "mimetype": "text/x-python",
   "name": "python",
   "nbconvert_exporter": "python",
   "pygments_lexer": "ipython3",
   "version": "3.12.2"
  }
 },
 "nbformat": 4,
 "nbformat_minor": 5
}
