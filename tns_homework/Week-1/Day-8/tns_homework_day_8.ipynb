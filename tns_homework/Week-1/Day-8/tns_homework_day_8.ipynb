{
 "cells": [
  {
   "cell_type": "code",
   "execution_count": 3,
   "id": "565d9619",
   "metadata": {},
   "outputs": [
    {
     "name": "stdout",
     "output_type": "stream",
     "text": [
      "Converted Dictionary: {'1': '23', '2': '34', '3': '45', '4': '56', '5': '67'}\n"
     ]
    }
   ],
   "source": [
    "#write a program that converts a list of tuples into a dictionary\n",
    "\n",
    "n = int(input(\"Enter number of tuples: \"))\n",
    "tuple_list = []\n",
    "\n",
    "for i in range(n):\n",
    "    key = input(f\"Enter key for tuple {i+1}: \")\n",
    "    value = input(f\"Enter value for tuple {i+1}: \")\n",
    "    tuple_list.append((key, value))\n",
    "\n",
    "result_dict = dict(tuple_list)\n",
    "print(\"Converted Dictionary:\", result_dict)"
   ]
  },
  {
   "cell_type": "code",
   "execution_count": 5,
   "id": "838b190b",
   "metadata": {},
   "outputs": [
    {
     "name": "stdout",
     "output_type": "stream",
     "text": [
      "Original Dictionary: {'1': ['34'], '2': ['12'], '3': ['78'], '4': ['98'], '5': ['48']}\n",
      "Flattened List: ['34', '12', '78', '98', '48']\n"
     ]
    }
   ],
   "source": [
    "#given a dictionary with values as lists write a program to flatten all values into a single list\n",
    "\n",
    "\n",
    "n = int(input(\"Enter number of keys: \"))\n",
    "dict_of_lists = dict()\n",
    "\n",
    "for i in range(n):\n",
    "    key = input(f\"Enter key {i+1}: \")\n",
    "    values = input(f\"Enter values for {key} (space separated): \").split()\n",
    "    dict_of_lists[key] = values\n",
    "\n",
    "flattened_list = []\n",
    "for value_list in dict_of_lists.values():\n",
    "    for value in value_list:\n",
    "        flattened_list.append(value)\n",
    "\n",
    "print(\"Original Dictionary:\", dict_of_lists)\n",
    "print(\"Flattened List:\", flattened_list)"
   ]
  },
  {
   "cell_type": "code",
   "execution_count": 7,
   "id": "4faf18bc",
   "metadata": {},
   "outputs": [
    {
     "name": "stdout",
     "output_type": "stream",
     "text": [
      "Original List: ['3', '4', '5', '6', '7', '5', '4', '5', '6', '5', '6', '4', '3', '2', '2', '1', '1', '1', '3', '3', '1', '1', '3', '4', '5', '6', '7']\n",
      "Frequency Dictionary: {'3': 5, '4': 4, '5': 5, '6': 4, '7': 2, '2': 2, '1': 5}\n"
     ]
    }
   ],
   "source": [
    "#write a program that takes a list with duplicate elements and returns a dictionary with elements as keys and their frequency as values\n",
    "\n",
    "\n",
    "elements = input(\"Enter elements separated by spaces: \").split()\n",
    "\n",
    "frequency_dict = dict()\n",
    "for item in elements:\n",
    "    if item in frequency_dict:\n",
    "        frequency_dict[item] += 1\n",
    "    else:\n",
    "        frequency_dict[item] = 1\n",
    "\n",
    "print(\"Original List:\", elements)\n",
    "print(\"Frequency Dictionary:\", frequency_dict)"
   ]
  }
 ],
 "metadata": {
  "kernelspec": {
   "display_name": "Python 3",
   "language": "python",
   "name": "python3"
  },
  "language_info": {
   "codemirror_mode": {
    "name": "ipython",
    "version": 3
   },
   "file_extension": ".py",
   "mimetype": "text/x-python",
   "name": "python",
   "nbconvert_exporter": "python",
   "pygments_lexer": "ipython3",
   "version": "3.12.2"
  }
 },
 "nbformat": 4,
 "nbformat_minor": 5
}
