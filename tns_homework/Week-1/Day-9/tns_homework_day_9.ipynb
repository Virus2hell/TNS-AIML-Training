{
 "cells": [
  {
   "cell_type": "code",
   "execution_count": 1,
   "id": "11f3e573",
   "metadata": {},
   "outputs": [
    {
     "name": "stdout",
     "output_type": "stream",
     "text": [
      "Original: hello\n",
      "Reversed: olleh\n"
     ]
    }
   ],
   "source": [
    "#reverse a string using stack\n",
    "def reverse_string(s):\n",
    "    stack = []\n",
    "\n",
    "    for char in s:\n",
    "        stack.append(char)\n",
    "\n",
    "    reversed_str = \"\"\n",
    "\n",
    "    while stack:\n",
    "        reversed_str += stack.pop()\n",
    "\n",
    "    return reversed_str\n",
    "\n",
    "text = \"hello\"\n",
    "print(\"Original:\", text)\n",
    "print(\"Reversed:\", reverse_string(text))"
   ]
  },
  {
   "cell_type": "code",
   "execution_count": 3,
   "id": "f6006d35",
   "metadata": {},
   "outputs": [
    {
     "name": "stdout",
     "output_type": "stream",
     "text": [
      "After removing adjacent duplicates: ['c', 'a']\n"
     ]
    }
   ],
   "source": [
    "#remove the adjacent duplicate with stack\n",
    "\n",
    "def remove_adjacent_element(s):\n",
    "    stack = []\n",
    "\n",
    "    for char in s:\n",
    "        if stack and stack[-1] == char:\n",
    "            stack.pop()\n",
    "        else:\n",
    "            stack.append(char)\n",
    "\n",
    "    return stack\n",
    "\n",
    "result = remove_adjacent_element(\"abbaca\")\n",
    "print(\"After removing adjacent duplicates:\", result)"
   ]
  }
 ],
 "metadata": {
  "kernelspec": {
   "display_name": "Python 3",
   "language": "python",
   "name": "python3"
  },
  "language_info": {
   "codemirror_mode": {
    "name": "ipython",
    "version": 3
   },
   "file_extension": ".py",
   "mimetype": "text/x-python",
   "name": "python",
   "nbconvert_exporter": "python",
   "pygments_lexer": "ipython3",
   "version": "3.12.2"
  }
 },
 "nbformat": 4,
 "nbformat_minor": 5
}
