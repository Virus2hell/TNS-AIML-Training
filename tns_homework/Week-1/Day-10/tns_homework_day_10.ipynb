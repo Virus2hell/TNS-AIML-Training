{
 "cells": [
  {
   "cell_type": "code",
   "execution_count": null,
   "id": "329baccb",
   "metadata": {},
   "outputs": [],
   "source": [
    "#first non repeating character in a stream"
   ]
  },
  {
   "cell_type": "code",
   "execution_count": 1,
   "id": "ca13515b",
   "metadata": {},
   "outputs": [
    {
     "name": "stdout",
     "output_type": "stream",
     "text": [
      "deque([5, 4, 3, 2, 1])\n"
     ]
    }
   ],
   "source": [
    "#reverse a queue\n",
    "from collections import deque\n",
    "\n",
    "def reverse_queue(q):\n",
    "    stack = []\n",
    "\n",
    "    while q:\n",
    "        stack.append(q.popleft())\n",
    "\n",
    "    while stack:\n",
    "        q.append(stack.pop())\n",
    "\n",
    "q = deque([1, 2, 3, 4, 5])\n",
    "reverse_queue(q)\n",
    "print(q)\n"
   ]
  }
 ],
 "metadata": {
  "kernelspec": {
   "display_name": "Python 3",
   "language": "python",
   "name": "python3"
  },
  "language_info": {
   "codemirror_mode": {
    "name": "ipython",
    "version": 3
   },
   "file_extension": ".py",
   "mimetype": "text/x-python",
   "name": "python",
   "nbconvert_exporter": "python",
   "pygments_lexer": "ipython3",
   "version": "3.12.2"
  }
 },
 "nbformat": 4,
 "nbformat_minor": 5
}
