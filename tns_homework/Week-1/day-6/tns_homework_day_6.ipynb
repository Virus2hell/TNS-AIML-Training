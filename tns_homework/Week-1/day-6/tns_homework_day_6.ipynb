{
 "cells": [
  {
   "cell_type": "code",
   "execution_count": 1,
   "id": "7869eaf2",
   "metadata": {},
   "outputs": [
    {
     "name": "stdout",
     "output_type": "stream",
     "text": [
      "[1, 2, 3, 4, 5]\n"
     ]
    }
   ],
   "source": [
    "# remove duplicate from a list using set\n",
    "\n",
    "my_list = [1, 2, 2, 3, 4, 4, 5]\n",
    "unique_list = list(set(my_list))\n",
    "print(unique_list)\n"
   ]
  },
  {
   "cell_type": "code",
   "execution_count": 3,
   "id": "af925a9d",
   "metadata": {},
   "outputs": [
    {
     "name": "stdout",
     "output_type": "stream",
     "text": [
      "Common elements found: {3}\n"
     ]
    }
   ],
   "source": [
    "# check if two sets have common elements\n",
    "\n",
    "set1 = {1, 2, 3}\n",
    "set2 = {3, 4, 5}\n",
    "\n",
    "common = set1.intersection(set2)\n",
    "if len(common) > 0:\n",
    "    print(\"Common elements found:\", common)\n",
    "else:\n",
    "    print(\"No common elements\")\n",
    "\n"
   ]
  },
  {
   "cell_type": "code",
   "execution_count": 6,
   "id": "de2c1f12",
   "metadata": {},
   "outputs": [
    {
     "name": "stdout",
     "output_type": "stream",
     "text": [
      "Only in set1: {1, 2}\n",
      "Only in set2: {4, 5}\n"
     ]
    }
   ],
   "source": [
    "# find elements present in only one of the two sets\n",
    "\n",
    "set1 = {1, 2, 3}\n",
    "set2 = {3, 4, 5}\n",
    "\n",
    "only_in_set1 = set1.difference(set2)\n",
    "only_in_set2 = set2.difference(set1)\n",
    "\n",
    "print(\"Only in set1:\", only_in_set1)\n",
    "print(\"Only in set2:\", only_in_set2)"
   ]
  }
 ],
 "metadata": {
  "kernelspec": {
   "display_name": "Python 3",
   "language": "python",
   "name": "python3"
  },
  "language_info": {
   "codemirror_mode": {
    "name": "ipython",
    "version": 3
   },
   "file_extension": ".py",
   "mimetype": "text/x-python",
   "name": "python",
   "nbconvert_exporter": "python",
   "pygments_lexer": "ipython3",
   "version": "3.12.2"
  }
 },
 "nbformat": 4,
 "nbformat_minor": 5
}
