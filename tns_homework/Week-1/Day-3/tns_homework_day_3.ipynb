{
 "cells": [
  {
   "cell_type": "code",
   "execution_count": 1,
   "id": "0b9a5586",
   "metadata": {},
   "outputs": [
    {
     "name": "stdout",
     "output_type": "stream",
     "text": [
      "The sentence is not a panagram\n"
     ]
    }
   ],
   "source": [
    "#write a program to check if a sentence is a panagram\n",
    "\n",
    "def panagram(sentence):\n",
    "    sentence = sentence.lower()\n",
    "    letters = set()\n",
    "\n",
    "    for char in sentence:\n",
    "        if 'a' <= char <= 'z':\n",
    "            letters.add(char)\n",
    "\n",
    "    return len(letters) == 26\n",
    "\n",
    "text = input(\"Enter a sentence: \")\n",
    "\n",
    "if(panagram(text)):\n",
    "    print(\"The sentence is a paragram\")\n",
    "else:\n",
    "    print(\"The sentence is not a panagram\")"
   ]
  },
  {
   "cell_type": "code",
   "execution_count": 2,
   "id": "554d7740",
   "metadata": {},
   "outputs": [
    {
     "name": "stdout",
     "output_type": "stream",
     "text": [
      "The Word with maximum length is: narvekar\n"
     ]
    }
   ],
   "source": [
    "#write a function that take the sentence as input and returns the word with maximum length\n",
    "\n",
    "def long_word(sentence):\n",
    "    words = sentence.split()\n",
    "    max_word = \"\"\n",
    "\n",
    "    for word in words:\n",
    "        if(len(word) > len(max_word)):\n",
    "            max_word = word\n",
    "\n",
    "    return max_word\n",
    "\n",
    "text = input(\"Enter a sentence: \")\n",
    "\n",
    "result = long_word(text)\n",
    "\n",
    "print(f\"The Word with maximum length is: {result}\")"
   ]
  },
  {
   "cell_type": "code",
   "execution_count": 3,
   "id": "cd317ae6",
   "metadata": {},
   "outputs": [
    {
     "name": "stdout",
     "output_type": "stream",
     "text": [
      "The number of Upper Case Characters are: 2\n",
      "The number of Lower Case Characters are: 3\n"
     ]
    }
   ],
   "source": [
    "#write a program to count the number of uppercase and lowercase letters in a string\n",
    "\n",
    "def count_case(text):\n",
    "    upper_case = 0\n",
    "    lower_case = 0\n",
    "\n",
    "    for char in text:\n",
    "        if('A' <= char <= 'Z'):\n",
    "            upper_case += 1\n",
    "        elif('a' <= char <= 'z'):\n",
    "            lower_case += 1\n",
    "    return upper_case, lower_case\n",
    "\n",
    "text = input(\"Enter a sentence with a few capital terms: \")\n",
    "\n",
    "uppercase, lowercase = count_case(text)\n",
    "\n",
    "print(f\"The number of Upper Case Characters are: {uppercase}\")\n",
    "print(f\"The number of Lower Case Characters are: {lowercase}\")"
   ]
  }
 ],
 "metadata": {
  "kernelspec": {
   "display_name": "Python 3",
   "language": "python",
   "name": "python3"
  },
  "language_info": {
   "codemirror_mode": {
    "name": "ipython",
    "version": 3
   },
   "file_extension": ".py",
   "mimetype": "text/x-python",
   "name": "python",
   "nbconvert_exporter": "python",
   "pygments_lexer": "ipython3",
   "version": "3.12.2"
  }
 },
 "nbformat": 4,
 "nbformat_minor": 5
}
