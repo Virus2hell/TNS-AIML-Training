{
 "cells": [
  {
   "cell_type": "code",
   "execution_count": null,
   "id": "dc1639d3",
   "metadata": {},
   "outputs": [
    {
     "name": "stdout",
     "output_type": "stream",
     "text": [
      "{1: 1, 2: 2, 3: 3, 4: 1}\n"
     ]
    }
   ],
   "source": [
    "# count how many times each number occurs using a dictionary\n",
    "\n",
    "numbers = [1, 2, 2, 3, 3, 3, 4]\n",
    "\n",
    "count = {}\n",
    "\n",
    "for num in numbers:\n",
    "    if num in count:\n",
    "        count[num] += 1\n",
    "    else:\n",
    "        count[num] = 1\n",
    "\n",
    "print(count)\n"
   ]
  },
  {
   "cell_type": "code",
   "execution_count": 4,
   "id": "6e9374a1",
   "metadata": {},
   "outputs": [
    {
     "name": "stdout",
     "output_type": "stream",
     "text": [
      "Key with maximum value:  9\n"
     ]
    }
   ],
   "source": [
    "# find the key with maximum value\n",
    "\n",
    "data = {1: 5, 2: 8, 3: 2, 4: 10, 5: 6, 6: 11, 7: 9, 8: 1, 9: 12, 10: 3}\n",
    "\n",
    "max_key = 0\n",
    "max_value = 0\n",
    "\n",
    "for key in data:\n",
    "    if data[key] > max_value:\n",
    "        max_value = data[key]\n",
    "        max_key = key\n",
    "\n",
    "print(\"Key with maximum value: \", max_key)"
   ]
  },
  {
   "cell_type": "code",
   "execution_count": 1,
   "id": "f75efd94",
   "metadata": {},
   "outputs": [
    {
     "name": "stdout",
     "output_type": "stream",
     "text": [
      "Student(s) with the highest marks:\n",
      "siddhesh\n"
     ]
    }
   ],
   "source": [
    "#write a program that takes a dictionary of students and their marks, and prints the name of the student with the highest marks\n",
    "\n",
    "\n",
    "n = int(input(\"Enter the number of students: \"))\n",
    "\n",
    "student_marks = dict()\n",
    "\n",
    "for i in range(n):\n",
    "    name = input(f\"Enter name of student {i+1}: \")\n",
    "    marks = int(input(f\"Enter marks of {name}: \"))\n",
    "    student_marks[name] = marks\n",
    "\n",
    "highest = max(student_marks.values())\n",
    "\n",
    "top_students = [name for name, mark in student_marks.items() if mark == highest]\n",
    "\n",
    "print(\"Student(s) with the highest marks:\")\n",
    "for student in top_students:\n",
    "    print(student)"
   ]
  }
 ],
 "metadata": {
  "kernelspec": {
   "display_name": "Python 3",
   "language": "python",
   "name": "python3"
  },
  "language_info": {
   "codemirror_mode": {
    "name": "ipython",
    "version": 3
   },
   "file_extension": ".py",
   "mimetype": "text/x-python",
   "name": "python",
   "nbconvert_exporter": "python",
   "pygments_lexer": "ipython3",
   "version": "3.12.2"
  }
 },
 "nbformat": 4,
 "nbformat_minor": 5
}
