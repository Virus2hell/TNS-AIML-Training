{
 "cells": [
  {
   "cell_type": "code",
   "execution_count": 6,
   "id": "b70250ef",
   "metadata": {},
   "outputs": [
    {
     "name": "stdout",
     "output_type": "stream",
     "text": [
      "Tuple: (34, 34, 54, 67, 23)\n",
      "Maximum Number: 67\n",
      "Minimum Number: 23\n"
     ]
    }
   ],
   "source": [
    "#write a program to take 5 numbers from the user and store them in a tuple then print the maximum and minimum\n",
    "\n",
    "nums = []\n",
    "\n",
    "for i in range(5):\n",
    "    num = int(input(f\"Enter number {i + 1}: \"))\n",
    "    nums.append(num)\n",
    "\n",
    "num_tuple = tuple(nums)\n",
    "\n",
    "# Use built-in functions for max and min\n",
    "max_num = max(num_tuple)\n",
    "min_num = min(num_tuple)\n",
    "\n",
    "print(\"Tuple:\", num_tuple)\n",
    "print(\"Maximum Number:\", max_num)\n",
    "print(\"Minimum Number:\", min_num)"
   ]
  },
  {
   "cell_type": "code",
   "execution_count": 7,
   "id": "25f44bd9",
   "metadata": {},
   "outputs": [
    {
     "name": "stdout",
     "output_type": "stream",
     "text": [
      "Tuple: (34, 34, 23, 32, 1256, 78, 56)\n",
      "Count of elements divisible by 3: 1\n"
     ]
    }
   ],
   "source": [
    "#given a tuple of integers write a program to count how many elements are divisible by 3\n",
    "\n",
    "\n",
    "input_str = input(\"Enter numbers separated by spaces: \").strip().split()\n",
    "nums_tuple = tuple(int(num) for num in input_str if num.strip().isdigit())\n",
    "\n",
    "count = 0\n",
    "for num in nums_tuple:\n",
    "    if num % 3 == 0:\n",
    "        count += 1\n",
    "\n",
    "print(\"Tuple:\", nums_tuple)\n",
    "print(\"Count of elements divisible by 3:\", count)"
   ]
  },
  {
   "cell_type": "code",
   "execution_count": 8,
   "id": "b1b86a53",
   "metadata": {},
   "outputs": [
    {
     "name": "stdout",
     "output_type": "stream",
     "text": [
      "Original tuple: (45, 54, 23, 43, 65, 76)\n",
      "Reversed tuple: (76, 65, 43, 23, 54, 45)\n"
     ]
    }
   ],
   "source": [
    "#write a program to reverse the content of a tuple without using reversed\n",
    "\n",
    "\n",
    "input_str = input(\"Enter numbers separated by spaces: \").strip().split()\n",
    "num_tuples = tuple(int(num) for num in input_str if num.strip().isdigit())\n",
    "\n",
    "reversed_tuple = ()\n",
    "for i in range(len(num_tuples) - 1, -1, -1):\n",
    "    reversed_tuple += (num_tuples[i],)\n",
    "\n",
    "print(\"Original tuple:\", num_tuples)\n",
    "print(\"Reversed tuple:\", reversed_tuple)"
   ]
  }
 ],
 "metadata": {
  "kernelspec": {
   "display_name": "Python 3",
   "language": "python",
   "name": "python3"
  },
  "language_info": {
   "codemirror_mode": {
    "name": "ipython",
    "version": 3
   },
   "file_extension": ".py",
   "mimetype": "text/x-python",
   "name": "python",
   "nbconvert_exporter": "python",
   "pygments_lexer": "ipython3",
   "version": "3.12.2"
  }
 },
 "nbformat": 4,
 "nbformat_minor": 5
}
