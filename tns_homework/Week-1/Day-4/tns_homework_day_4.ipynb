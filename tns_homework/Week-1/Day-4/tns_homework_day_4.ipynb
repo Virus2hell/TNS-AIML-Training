{
 "cells": [
  {
   "cell_type": "code",
   "execution_count": 4,
   "id": "62c2f653",
   "metadata": {},
   "outputs": [
    {
     "name": "stdout",
     "output_type": "stream",
     "text": [
      "The list of numbers is: [34, 56, 76, 45, 23, 89, 65, 98]\n",
      "The largest number is: 98\n",
      "The smallest number is: 23\n",
      "The difference is: 75\n"
     ]
    }
   ],
   "source": [
    "#write a program to find the difference between the largest and smallest numbers in a list\n",
    "\n",
    "nums = input(\"Enter a list of numbers separated by spaces: \").strip().split()\n",
    "nums = [int(num) for num in nums if num.strip().isdigit()]\n",
    "\n",
    "max_num = nums[0]\n",
    "min_num = nums[0]\n",
    "\n",
    "for num in nums:\n",
    "    if (num > max_num):\n",
    "        max_num = num\n",
    "    if(num < min_num):\n",
    "        min_num = num\n",
    "\n",
    "difference = max_num - min_num\n",
    "\n",
    "print(f\"The list of numbers is: {nums}\")\n",
    "print(f\"The largest number is: {max_num}\")\n",
    "print(f\"The smallest number is: {min_num}\")\n",
    "print(f\"The difference is: {difference}\")"
   ]
  },
  {
   "cell_type": "code",
   "execution_count": 5,
   "id": "fcfc8808",
   "metadata": {},
   "outputs": [
    {
     "name": "stdout",
     "output_type": "stream",
     "text": [
      "The original list is: [34, 56, 65, 43, 67, 87, 65, 87]\n",
      "List after removing odd indices: [56, 43, 87, 87]\n"
     ]
    }
   ],
   "source": [
    "#write a program to remove all elements at odd indices from a list\n",
    "\n",
    "nums = input(\"Enter a list of nums seperated by spaces: \").split()\n",
    "nums = [int(num) for num in nums]\n",
    "\n",
    "odd_indice_list = []\n",
    "\n",
    "for i in range(len(nums)):\n",
    "    if i % 2 != 0:\n",
    "        odd_indice_list.append(nums[i])\n",
    "\n",
    "print(f\"The original list is: {nums}\")\n",
    "print(f\"List after removing odd indices: {odd_indice_list}\")"
   ]
  },
  {
   "cell_type": "code",
   "execution_count": 6,
   "id": "667f277a",
   "metadata": {},
   "outputs": [
    {
     "name": "stdout",
     "output_type": "stream",
     "text": [
      "The original list is: [23, 45, 54, 45, 54, 67, 67, 76, 89, 8, 78, 67, 89]\n",
      "Elements that appear exactly once: [23, 76, 8, 78]\n"
     ]
    }
   ],
   "source": [
    "#write a program that takes a list of integers and prints only the elements that appear exactly once\n",
    "\n",
    "\n",
    "nums = input(\"Enter a list of integers separated by spaces: \").split()\n",
    "nums = [int(num) for num in nums]\n",
    "\n",
    "once_an_element = []\n",
    "for num in nums:\n",
    "    count = 0\n",
    "    for other in nums:\n",
    "        if num == other:\n",
    "            count += 1\n",
    "    if count == 1:\n",
    "        once_an_element.append(num)\n",
    "\n",
    "print(f\"The original list is: {nums}\")\n",
    "print(f\"Elements that appear exactly once: {once_an_element}\")"
   ]
  }
 ],
 "metadata": {
  "kernelspec": {
   "display_name": "Python 3",
   "language": "python",
   "name": "python3"
  },
  "language_info": {
   "codemirror_mode": {
    "name": "ipython",
    "version": 3
   },
   "file_extension": ".py",
   "mimetype": "text/x-python",
   "name": "python",
   "nbconvert_exporter": "python",
   "pygments_lexer": "ipython3",
   "version": "3.12.2"
  }
 },
 "nbformat": 4,
 "nbformat_minor": 5
}
