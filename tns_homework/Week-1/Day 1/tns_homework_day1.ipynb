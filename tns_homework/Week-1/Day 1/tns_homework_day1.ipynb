{
 "cells": [
  {
   "cell_type": "code",
   "execution_count": 2,
   "id": "5b8019d6",
   "metadata": {},
   "outputs": [
    {
     "name": "stdout",
     "output_type": "stream",
     "text": [
      "The circumference of the circle is: 18.84\n",
      "The area of the circle is: 28.259999999999998\n"
     ]
    }
   ],
   "source": [
    "#write a program to calculate the circumference and area of a circle by its radius\n",
    "\n",
    "num = float(input(\"Enter the radius of the circle: \"))\n",
    "\n",
    "result = 2 * 3.14 * num\n",
    "print(\"The circumference of the circle is:\", result)\n",
    "result2 = 3.14 * num * num\n",
    "print(\"The area of the circle is:\", result2)"
   ]
  },
  {
   "cell_type": "code",
   "execution_count": 5,
   "id": "cbfd653d",
   "metadata": {},
   "outputs": [
    {
     "name": "stdout",
     "output_type": "stream",
     "text": [
      "The number is divisible by both 5 and 3.\n"
     ]
    }
   ],
   "source": [
    "#write a program to check whether the number is divisible by 5 and 3\n",
    "\n",
    "num = int(input(\"Enter a number: \"))\n",
    "if num % 5 == 0 and num % 3 == 0:\n",
    "    print(\"The number is divisible by both 5 and 3.\")\n",
    "else:\n",
    "    print(\"The number is not divisible by both 5 and 3.\")"
   ]
  },
  {
   "cell_type": "code",
   "execution_count": 11,
   "id": "a5979ca1",
   "metadata": {},
   "outputs": [
    {
     "name": "stdout",
     "output_type": "stream",
     "text": [
      "The sum of the digits is: 10\n"
     ]
    }
   ],
   "source": [
    "#write a program that take a 4 digits number and print the sum of its digits\n",
    "num = input(\"Enter a 4-digit number: \")\n",
    "if len(num) == 4  and num.isdigit():\n",
    "    sum_of_digits = sum(int(digit) for digit in num)\n",
    "    print(\"The sum of the digits is:\", sum_of_digits)\n",
    "else:\n",
    "    print(\"Please enter a valid 4-digit number.\")\n"
   ]
  }
 ],
 "metadata": {
  "kernelspec": {
   "display_name": "Python 3",
   "language": "python",
   "name": "python3"
  },
  "language_info": {
   "codemirror_mode": {
    "name": "ipython",
    "version": 3
   },
   "file_extension": ".py",
   "mimetype": "text/x-python",
   "name": "python",
   "nbconvert_exporter": "python",
   "pygments_lexer": "ipython3",
   "version": "3.12.2"
  }
 },
 "nbformat": 4,
 "nbformat_minor": 5
}
